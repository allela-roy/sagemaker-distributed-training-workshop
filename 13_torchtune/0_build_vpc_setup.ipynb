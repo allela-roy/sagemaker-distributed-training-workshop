{
 "cells": [
  {
   "cell_type": "markdown",
   "id": "d9275057",
   "metadata": {},
   "source": [
    "## SageMaker training with EFS"
   ]
  },
  {
   "cell_type": "markdown",
   "id": "4ed23fa2",
   "metadata": {},
   "source": [
    "This sample shows how to:\n",
    "\n",
    "- Setup VPC\n",
    "- Setup EFS\n",
    "- Setup Security Group \n",
    "\n",
    "**Please make sure the CIDR block in setup/cfn-nlp.yaml does not conflict with your existing VPC. **"
   ]
  },
  {
   "cell_type": "code",
   "execution_count": null,
   "id": "8f271394-995e-40b5-8e66-aae21d23c054",
   "metadata": {
    "tags": []
   },
   "outputs": [],
   "source": [
    "import sagemaker, boto3, time, json\n",
    "\n",
    "sagemaker_session = sagemaker.Session()\n",
    "\n",
    "print(f\"sagemaker session region: {sagemaker_session.boto_region_name}\")"
   ]
  },
  {
   "cell_type": "code",
   "execution_count": null,
   "id": "d5ee215a",
   "metadata": {
    "tags": []
   },
   "outputs": [],
   "source": [
    "# CF Setup\n",
    "region = sagemaker_session.boto_region_name  # update this if your region is different\n",
    "\n",
    "# Clients\n",
    "cfn_client = boto3.client(\"cloudformation\", region_name=region)\n",
    "fsx_client = boto3.client(\"fsx\", region_name=region)\n",
    "\n",
    "# Inputs\n",
    "region_az = \"us-west-2a\"  # customize this as needed. Your EFS will be set up in a subnet in this AZ"
   ]
  },
  {
   "cell_type": "code",
   "execution_count": null,
   "id": "c9a6674a",
   "metadata": {
    "tags": []
   },
   "outputs": [],
   "source": [
    "# Execute the CF stack\n",
    "\n",
    "timestamp = time.strftime(\"%Y-%m-%d-%H-%M-%S\")\n",
    "cfn_stack_name = f'vpc-setup-for-torchtune-{timestamp}'  # cloudformation stack name\n",
    "\n",
    "# Setup infrastructure using CloudFormation\n",
    "with open(\"scripts/cfn-nlp.yaml\", \"r\") as f:\n",
    "    template_body = f.read()\n",
    "    \n",
    "create_stack_response = cfn_client.create_stack(\n",
    "    StackName=cfn_stack_name,\n",
    "    TemplateBody=template_body,\n",
    "    Parameters=[\n",
    "        {\n",
    "            'ParameterKey': 'AZ',\n",
    "            'ParameterValue': region_az\n",
    "        }\n",
    "    ]\n",
    ")\n",
    "\n",
    "create_stack_response"
   ]
  },
  {
   "cell_type": "code",
   "execution_count": null,
   "id": "470c9d12-dbdc-4d6f-bc3c-81a7ac3d4723",
   "metadata": {
    "tags": []
   },
   "outputs": [],
   "source": [
    "# Stack name that we will create\n",
    "\n",
    "stack_name = create_stack_response['StackId'].split('/')[-2]\n",
    "stack_name"
   ]
  },
  {
   "cell_type": "code",
   "execution_count": null,
   "id": "e3bf00ef-89ff-4558-9c02-3bdd236e9424",
   "metadata": {
    "tags": []
   },
   "outputs": [],
   "source": [
    "# Wait for CF stack to complete\n",
    "\n",
    "def wait_for_stack_completion(stack_name, region):\n",
    "    cf_client = boto3.client('cloudformation', region_name=region)\n",
    "    \n",
    "    print(f\"Waiting for stack {stack_name} to complete...\")\n",
    "    while True:\n",
    "        response = cf_client.describe_stacks(StackName=stack_name)\n",
    "        status = response['Stacks'][0]['StackStatus']\n",
    "        \n",
    "        if status.endswith('_COMPLETE'):\n",
    "            print(f\"Stack {stack_name} completed with status: {status}\")\n",
    "            break\n",
    "        elif status.endswith('_FAILED'):\n",
    "            print(f\"Stack {stack_name} failed with status: {status}\")\n",
    "            break\n",
    "        else:\n",
    "            print(f\"Current status: {status}. Waiting...\")\n",
    "            time.sleep(30)\n",
    "\n",
    "# Replace with your actual stack name\n",
    "wait_for_stack_completion(stack_name, region)"
   ]
  },
  {
   "cell_type": "code",
   "execution_count": null,
   "id": "273547d5",
   "metadata": {
    "tags": []
   },
   "outputs": [],
   "source": [
    "# Get EFS-id, private-subnet-id and EFS-id for next step of fine-tuning\n",
    "\n",
    "def get_stack_outputs(stack_name, region='us-east-1'):\n",
    "    \"\"\"\n",
    "    Retrieves all outputs from a CloudFormation stack.\n",
    "    \n",
    "    :param stack_name: Name of the CloudFormation stack\n",
    "    :param region: AWS region where the stack is deployed (default is 'us-east-1')\n",
    "    :return: Dictionary of stack outputs\n",
    "    \"\"\"\n",
    "    cfn_client = boto3.client('cloudformation', region_name=region)\n",
    "    \n",
    "    try:\n",
    "        response = cfn_client.describe_stacks(StackName=stack_name)\n",
    "        stack_outputs = response['Stacks'][0]['Outputs']\n",
    "        \n",
    "        # Convert the list of outputs to a dictionary for easier access\n",
    "        outputs_dict = {output['OutputKey']: output['OutputValue'] for output in stack_outputs}\n",
    "        \n",
    "        return outputs_dict\n",
    "    \n",
    "    except Exception as e:\n",
    "        print(f\"Error retrieving stack outputs: {str(e)}\")\n",
    "        return None\n",
    "\n",
    "#stack_name=''\n",
    "outputs = get_stack_outputs(stack_name, region)\n",
    "\n",
    "if outputs:\n",
    "    print(\"Stack Outputs:\")\n",
    "    for key, value in outputs.items():\n",
    "        print(f\"{key}: {value}\")\n",
    "else:\n",
    "    print(\"Failed to retrieve stack outputs.\")"
   ]
  }
 ],
 "metadata": {
  "kernelspec": {
   "display_name": "Python 3 (ipykernel)",
   "language": "python",
   "name": "python3"
  },
  "language_info": {
   "codemirror_mode": {
    "name": "ipython",
    "version": 3
   },
   "file_extension": ".py",
   "mimetype": "text/x-python",
   "name": "python",
   "nbconvert_exporter": "python",
   "pygments_lexer": "ipython3",
   "version": "3.10.14"
  }
 },
 "nbformat": 4,
 "nbformat_minor": 5
}
