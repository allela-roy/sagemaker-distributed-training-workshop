{
 "cells": [
  {
   "cell_type": "markdown",
   "id": "f61fc053-e7f6-44e8-85f8-f3b3e7b8f9be",
   "metadata": {},
   "source": [
    "# This script builds Docker container "
   ]
  },
  {
   "cell_type": "code",
   "execution_count": null,
   "id": "a5a9590b-8fc4-4a51-a449-c47bfaf56842",
   "metadata": {},
   "outputs": [],
   "source": [
    "!pip install sagemaker-studio-image-build"
   ]
  },
  {
   "cell_type": "code",
   "execution_count": null,
   "id": "1209e6c9-a1c4-4158-9048-c2935485cd5e",
   "metadata": {},
   "outputs": [],
   "source": [
    "%%time\n",
    "import os\n",
    "\n",
    "import boto3\n",
    "import sagemaker\n",
    "from sagemaker import get_execution_role\n",
    "from sagemaker.pytorch import PyTorch\n",
    "\n",
    "role = (\n",
    "    get_execution_role()\n",
    ")  # provide a pre-existing role ARN as an alternative to creating a new role\n",
    "print(f\"SageMaker Execution Role: {role}\")\n",
    "\n",
    "client = boto3.client(\"sts\")\n",
    "account = client.get_caller_identity()[\"Account\"]\n",
    "print(f\"AWS account: {account}\")\n",
    "\n",
    "session = boto3.session.Session()\n",
    "region = session.region_name\n",
    "print(f\"AWS region: {region}\")\n",
    "\n",
    "sm_boto_client = boto3.client(\"sagemaker\")\n",
    "sagemaker_session = sagemaker.session.Session(boto_session=session)\n",
    "\n",
    "# get default bucket\n",
    "default_bucket = sagemaker_session.default_bucket()\n",
    "print(\"Default bucket for this session: \", default_bucket)"
   ]
  },
  {
   "cell_type": "code",
   "execution_count": null,
   "id": "99473850-a31f-4a1d-b3f8-b5c8faa84e78",
   "metadata": {},
   "outputs": [],
   "source": [
    "!sm-docker build ."
   ]
  },
  {
   "cell_type": "code",
   "execution_count": null,
   "id": "b68bf500-bf64-4854-86a2-0dbf927029a6",
   "metadata": {},
   "outputs": [],
   "source": [
    "!pwd"
   ]
  },
  {
   "cell_type": "code",
   "execution_count": null,
   "id": "9f487c01-c561-4139-bdb6-398e0ff706a5",
   "metadata": {},
   "outputs": [],
   "source": [
    "%%writefile Dockerfile\n",
    "\n",
    "# Set the default value for the REGION build argument\n",
    "ARG REGION=us-west-2\n",
    "\n",
    "# SageMaker PyTorch image for TRAINING\n",
    "FROM 763104351884.dkr.ecr.${REGION}.amazonaws.com/pytorch-training:2.3.0-gpu-py311-cu121-ubuntu20.04-sagemaker\n",
    "\n",
    "# Uninstall existing PyTorch packages\n",
    "RUN pip uninstall torch torchvision transformer-engine -y\n",
    "\n",
    "# Install latest release of PyTorch and torchvision\n",
    "RUN pip install --force-reinstall torch==2.4.0\n",
    "\n",
    "# Display installed packages for reference\n",
    "RUN pip freeze"
   ]
  },
  {
   "cell_type": "code",
   "execution_count": null,
   "id": "6ab3d56e-83a1-4c7a-a32e-207085c61358",
   "metadata": {
    "scrolled": true
   },
   "outputs": [],
   "source": [
    "!sm-docker build . --repository accelerate:latest"
   ]
  }
 ],
 "metadata": {
  "kernelspec": {
   "display_name": "Python 3 (ipykernel)",
   "language": "python",
   "name": "python3"
  },
  "language_info": {
   "codemirror_mode": {
    "name": "ipython",
    "version": 3
   },
   "file_extension": ".py",
   "mimetype": "text/x-python",
   "name": "python",
   "nbconvert_exporter": "python",
   "pygments_lexer": "ipython3",
   "version": "3.10.14"
  }
 },
 "nbformat": 4,
 "nbformat_minor": 5
}
